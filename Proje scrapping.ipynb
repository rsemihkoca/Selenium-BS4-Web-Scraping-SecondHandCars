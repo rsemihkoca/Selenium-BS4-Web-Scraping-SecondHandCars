{
 "cells": [
  {
   "cell_type": "code",
   "execution_count": 8,
   "metadata": {},
   "outputs": [],
   "source": [
    "import pandas as pd\n",
    "import requests\n",
    "import os\n",
    "from bs4 import BeautifulSoup\n",
    "from selenium import webdriver\n",
    "import subprocess\n"
   ]
  },
  {
   "cell_type": "code",
   "execution_count": 9,
   "metadata": {},
   "outputs": [],
   "source": [
    "links=[]\n",
    "url=\"https://www.otoeksper.com.tr/ikinci-el?sayfa=\"\n",
    "for i in range(1):\n",
    "    url_page=url+str(i+1)\n",
    "\n",
    "    html = requests.get(url_page).content\n",
    "    encoded_str = html.decode('utf8')\n",
    "    soup=BeautifulSoup(encoded_str,\"lxml\")\n",
    "    for link in soup.findAll('a', {'class': 'Arac-Ozellik Resim'},href=True):\n",
    "        links.append(('https://www.otoeksper.com.tr'+link['href']))\n",
    "        \n",
    "    "
   ]
  },
  {
   "cell_type": "code",
   "execution_count": 10,
   "metadata": {},
   "outputs": [
    {
     "data": {
      "text/plain": [
       "18"
      ]
     },
     "execution_count": 10,
     "metadata": {},
     "output_type": "execute_result"
    }
   ],
   "source": [
    "len(links)"
   ]
  },
  {
   "cell_type": "code",
   "execution_count": 11,
   "metadata": {},
   "outputs": [
    {
     "data": {
      "text/plain": [
       "['https://www.otoeksper.com.tr/ikinci-el-ford/tourneo-courier/1.5-tdci-titanium-100-ps-kombi/dizel/detay-59791',\n",
       " 'https://www.otoeksper.com.tr/ikinci-el-fiat/egea/1.4-fire-easy-95-ps-sedan/benzinli/lpg/detay-58688',\n",
       " 'https://www.otoeksper.com.tr/ikinci-el-fiat/doblo/1.6-multijet-premio-plus-gri-black-105-ps-combi/dizel/detay-56835',\n",
       " 'https://www.otoeksper.com.tr/ikinci-el-fiat/doblo/1.3-multijet-maxi-plus-esp-90-ps-cargo/dizel/detay-58778',\n",
       " 'https://www.otoeksper.com.tr/ikinci-el-fiat/egea/1.3-multijet-easy-95-ps-sedan/dizel/detay-59804',\n",
       " 'https://www.otoeksper.com.tr/ikinci-el-fiat/egea/egea-1.4-fire-easy-sedan/benzinli/detay-59805',\n",
       " 'https://www.otoeksper.com.tr/ikinci-el-opel/insignia/1.6-cdti-ecotec-enjoy-otomatik-136-ps-grand-sport/dizel/detay-59803',\n",
       " 'https://www.otoeksper.com.tr/ikinci-el-dacia/dokker/dokker-kombi-1.5-dci-stepway/dizel/detay-59806',\n",
       " 'https://www.otoeksper.com.tr/ikinci-el-renault/symbol/symbol-collection1.2-16v-sl-collection/benzinli/detay-59801',\n",
       " 'https://www.otoeksper.com.tr/ikinci-el-renault/kangoo/kangoo-multix-1.5-dci-joy/dizel/detay-59802',\n",
       " 'https://www.otoeksper.com.tr/ikinci-el-ford/tourneo-courier/tourneo-courier-1.5-tdci-delux/dizel/detay-56302',\n",
       " 'https://www.otoeksper.com.tr/ikinci-el-peugeot/bipper/bipper-tepee-1.3-hdi-comfort/dizel/detay-59795',\n",
       " 'https://www.otoeksper.com.tr/ikinci-el-ford/focus/focus-1.6-titanium/benzinli/lpg/detay-59800',\n",
       " 'https://www.otoeksper.com.tr/ikinci-el-fiat/fiorino/fiorino-cargo-1.3-multijet/dizel/detay-59793',\n",
       " 'https://www.otoeksper.com.tr/ikinci-el-fiat/fiorino/fiorino-cargo-1.3-multijet/dizel/detay-59794',\n",
       " 'https://www.otoeksper.com.tr/ikinci-el-fiat/doblo/1.3-multijet-easy-esp-90-ps-combi/dizel/detay-59796',\n",
       " 'https://www.otoeksper.com.tr/ikinci-el-fiat/doblo/1.3-multijet-easy-esp-90-ps-combi/dizel/detay-59797',\n",
       " 'https://www.otoeksper.com.tr/ikinci-el-fiat/doblo/1.3-multijet-easy-esp-90-ps-combi/dizel/detay-59798']"
      ]
     },
     "execution_count": 11,
     "metadata": {},
     "output_type": "execute_result"
    }
   ],
   "source": [
    "links"
   ]
  },
  {
   "cell_type": "code",
   "execution_count": 46,
   "metadata": {},
   "outputs": [],
   "source": [
    "df=pd.DataFrame()\n",
    "\n",
    "Arac_Ozellikler=['İlan No',\n",
    "                 'Plaka',\n",
    "                 'Motor No',\n",
    "                 'Şase No',\n",
    "                 'Marka',\n",
    "                 'Model',\n",
    "                 'Versiyon',\n",
    "                 'Model Yılı',\n",
    "                 'Kilometre',\n",
    "                 'Yakıt',\n",
    "                 'Kullanım Şekli',\n",
    "                 'Vites',\n",
    "                 'Kasa Tipi',\n",
    "                 'Motor Hacmi',\n",
    "                 'Motor Gücü',\n",
    "                 'Renk',\n",
    "                 'Tavan',\n",
    "                 'Kaput',\n",
    "                 'Sol Ön Çamurluk',\n",
    "                 'Sağ Ön Çamurluk',\n",
    "                 'Sol Ön Kapı',\n",
    "                 'Sağ Ön Kapı',\n",
    "                 'Sol Arka Kapı',\n",
    "                 'Sağ Arka Kapı',\n",
    "                 'Sol Arka Çamurluk',\n",
    "                 'Sağ Arka Çamurluk',\n",
    "                 'Bagaj',\n",
    "                 'Ön Tampon',\n",
    "                 'Arka Tampon',\n",
    "                 'Fiyat']\n",
    "Arac_Database=pd.DataFrame(df,columns=Arac_Ozellikler).dropna()"
   ]
  },
  {
   "cell_type": "code",
   "execution_count": 47,
   "metadata": {},
   "outputs": [
    {
     "data": {
      "text/html": [
       "<div>\n",
       "<style scoped>\n",
       "    .dataframe tbody tr th:only-of-type {\n",
       "        vertical-align: middle;\n",
       "    }\n",
       "\n",
       "    .dataframe tbody tr th {\n",
       "        vertical-align: top;\n",
       "    }\n",
       "\n",
       "    .dataframe thead th {\n",
       "        text-align: right;\n",
       "    }\n",
       "</style>\n",
       "<table border=\"1\" class=\"dataframe\">\n",
       "  <thead>\n",
       "    <tr style=\"text-align: right;\">\n",
       "      <th></th>\n",
       "      <th>İlan No</th>\n",
       "      <th>Plaka</th>\n",
       "      <th>Motor No</th>\n",
       "      <th>Şase No</th>\n",
       "      <th>Marka</th>\n",
       "      <th>Model</th>\n",
       "      <th>Versiyon</th>\n",
       "      <th>Model Yılı</th>\n",
       "      <th>Kilometre</th>\n",
       "      <th>Yakıt</th>\n",
       "      <th>...</th>\n",
       "      <th>Sol Ön Kapı</th>\n",
       "      <th>Sağ Ön Kapı</th>\n",
       "      <th>Sol Arka Kapı</th>\n",
       "      <th>Sağ Arka Kapı</th>\n",
       "      <th>Sol Arka Çamurluk</th>\n",
       "      <th>Sağ Arka Çamurluk</th>\n",
       "      <th>Bagaj</th>\n",
       "      <th>Ön Tampon</th>\n",
       "      <th>Arka Tampon</th>\n",
       "      <th>Fiyat</th>\n",
       "    </tr>\n",
       "  </thead>\n",
       "  <tbody>\n",
       "  </tbody>\n",
       "</table>\n",
       "<p>0 rows × 30 columns</p>\n",
       "</div>"
      ],
      "text/plain": [
       "Empty DataFrame\n",
       "Columns: [İlan No, Plaka, Motor No, Şase No, Marka, Model, Versiyon, Model Yılı, Kilometre, Yakıt, Kullanım Şekli, Vites, Kasa Tipi, Motor Hacmi, Motor Gücü, Renk, Tavan, Kaput, Sol Ön Çamurluk, Sağ Ön Çamurluk, Sol Ön Kapı, Sağ Ön Kapı, Sol Arka Kapı, Sağ Arka Kapı, Sol Arka Çamurluk, Sağ Arka Çamurluk, Bagaj, Ön Tampon, Arka Tampon, Fiyat]\n",
       "Index: []\n",
       "\n",
       "[0 rows x 30 columns]"
      ]
     },
     "execution_count": 47,
     "metadata": {},
     "output_type": "execute_result"
    }
   ],
   "source": [
    "(Arac_Database) "
   ]
  },
  {
   "cell_type": "code",
   "execution_count": 48,
   "metadata": {},
   "outputs": [
    {
     "name": "stdout",
     "output_type": "stream",
     "text": [
      "sub1: 16 sub2: 14\n",
      "sub1: 16 sub2: 14\n",
      "sub1: 16 sub2: 14\n",
      "sub1: 16 sub2: 14\n",
      "sub1: 16 sub2: 14\n",
      "sub1: 16 sub2: 14\n",
      "sub1: 16 sub2: 14\n",
      "sub1: 16 sub2: 14\n",
      "sub1: 16 sub2: 14\n",
      "sub1: 16 sub2: 14\n",
      "sub1: 16 sub2: 14\n",
      "sub1: 16 sub2: 14\n",
      "sub1: 16 sub2: 14\n",
      "sub1: 16 sub2: 14\n",
      "sub1: 16 sub2: 14\n",
      "sub1: 16 sub2: 14\n",
      "sub1: 16 sub2: 14\n",
      "sub1: 16 sub2: 14\n"
     ]
    }
   ],
   "source": [
    "\n",
    "def get_data(url):\n",
    "    driver = webdriver.Firefox(executable_path=r'C:\\\\Program Files\\\\Mozilla Firefox\\\\Driver\\\\geckodriver.exe')\n",
    "    driver.get(url)\n",
    "\n",
    "    page = driver.page_source\n",
    "    page_soup = BeautifulSoup(page,'html.parser')\n",
    "    \n",
    "    table=BeautifulSoup(page,'html.parser').findAll('table')\n",
    "    genel_ozellikler = pd.read_html(str(table))[3]\n",
    "    sub_1=list(genel_ozellikler[1])\n",
    "    \n",
    "    fiyat = [page_soup.find(\"span\",{\"id\":\"SatisFiyati\"}).text]\n",
    "    containers = page_soup.findAll(\"div\",{\"id\":\"EkspertizYazi\"})\n",
    "    htmlStr = '<table><tbody>'+str(containers[0]).replace('div','tr').replace('span','td')+'</tbody></table>'\n",
    "    soup = BeautifulSoup(htmlStr, 'html.parser')\n",
    "    table = soup.find_all('table')\n",
    "    ekspertiz_ozellikler = pd.read_html(str(table))[0]\n",
    "    sub_2=list(ekspertiz_ozellikler['Unnamed: 2'])+fiyat\n",
    "\n",
    "\n",
    "    to_append = sub_1+sub_2\n",
    "\n",
    "    df_length = len(Arac_Database) \n",
    "    print(\"sub1:\",len(sub_1),\"sub2:\",len(sub_2))\n",
    "    Arac_Database.loc[df_length] = to_append\n",
    "    os.system(\"taskkill /f /im firefox.exe\")\n",
    "for z in links:\n",
    "    get_data(z)\n"
   ]
  },
  {
   "cell_type": "code",
   "execution_count": null,
   "metadata": {},
   "outputs": [],
   "source": [
    "Arac_Database"
   ]
  },
  {
   "cell_type": "code",
   "execution_count": null,
   "metadata": {},
   "outputs": [],
   "source": []
  },
  {
   "cell_type": "code",
   "execution_count": 49,
   "metadata": {},
   "outputs": [],
   "source": [
    "Arac_Database.to_excel(\"Database.xlsx\") "
   ]
  }
 ],
 "metadata": {
  "kernelspec": {
   "display_name": "Python 3",
   "language": "python",
   "name": "python3"
  },
  "language_info": {
   "codemirror_mode": {
    "name": "ipython",
    "version": 3
   },
   "file_extension": ".py",
   "mimetype": "text/x-python",
   "name": "python",
   "nbconvert_exporter": "python",
   "pygments_lexer": "ipython3",
   "version": "3.8.5"
  }
 },
 "nbformat": 4,
 "nbformat_minor": 4
}
